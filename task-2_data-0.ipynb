{
  "cells": [
    {
      "cell_type": "code",
      "execution_count": 2,
      "metadata": {
        "id": "9GXipPr89BGI"
      },
      "outputs": [],
      "source": [
        "import torch\n",
        "import torch.nn as nn\n",
        "import torch.nn.functional as F\n",
        "from torch.optim import Adam\n",
        "import torchvision.transforms as transforms\n",
        "from torch.utils.data import DataLoader, Dataset\n",
        "import os\n",
        "from PIL import Image\n",
        "from torch.nn.utils.rnn import pad_sequence\n",
        "from torch.nn.functional import log_softmax\n",
        "import numpy as np"
      ]
    },
    {
      "cell_type": "code",
      "execution_count": 3,
      "metadata": {
        "colab": {
          "base_uri": "https://localhost:8080/"
        },
        "id": "MdY-Foly9XkR",
        "outputId": "727907c3-5598-4837-e6d9-740b2af92749"
      },
      "outputs": [
        {
          "name": "stdout",
          "output_type": "stream",
          "text": [
            "Using device: cuda\n"
          ]
        }
      ],
      "source": [
        "device = torch.device('cuda' if torch.cuda.is_available() else 'cpu')\n",
        "print(f\"Using device: {device}\")"
      ]
    },
    {
      "cell_type": "markdown",
      "metadata": {},
      "source": [
        "Define Model"
      ]
    },
    {
      "cell_type": "code",
      "execution_count": 5,
      "metadata": {
        "id": "e6O3YOOY_AN0"
      },
      "outputs": [],
      "source": [
        "class CRNN(nn.Module):\n",
        "    def __init__(self, num_classes):\n",
        "        super(CRNN, self).__init__()\n",
        "\n",
        "        # Convolutional layers\n",
        "        self.conv_1 = nn.Conv2d(1, 64, kernel_size=3, padding=1)\n",
        "        self.pool_1 = nn.MaxPool2d(kernel_size=2, stride=2)  # (16, 64)\n",
        "\n",
        "        self.conv_2 = nn.Conv2d(64, 128, kernel_size=3, padding=1)\n",
        "        self.pool_2 = nn.MaxPool2d(kernel_size=2, stride=2)  # (8, 32)\n",
        "\n",
        "        self.conv_3 = nn.Conv2d(128, 256, kernel_size=3, padding=1)\n",
        "        self.conv_4 = nn.Conv2d(256, 256, kernel_size=3, padding=1)\n",
        "        self.pool_4 = nn.MaxPool2d(kernel_size=(2, 1), stride=(2, 1))  # (4, 32)\n",
        "\n",
        "        self.conv_5 = nn.Conv2d(256, 512, kernel_size=3, padding=1)\n",
        "        self.batch_norm_5 = nn.BatchNorm2d(512)\n",
        "\n",
        "        self.conv_6 = nn.Conv2d(512, 512, kernel_size=3, padding=1)\n",
        "        self.batch_norm_6 = nn.BatchNorm2d(512)\n",
        "        self.pool_6 = nn.MaxPool2d(kernel_size=(2, 1), stride=(2, 1))  # (2, 32)\n",
        "\n",
        "        # LSTM layers\n",
        "        self.lstm_1 = nn.LSTM(input_size=1024, hidden_size=128, num_layers=1, bidirectional=True, batch_first=True)\n",
        "        self.lstm_2 = nn.LSTM(input_size=256, hidden_size=128, num_layers=1, bidirectional=True, batch_first=True)\n",
        "\n",
        "        # Final output layer (dense layer)\n",
        "        self.fc = nn.Linear(256, num_classes)\n",
        "\n",
        "    def forward(self, x):\n",
        "        x = F.relu(self.conv_1(x))\n",
        "        x = self.pool_1(x)\n",
        "\n",
        "        x = F.relu(self.conv_2(x))\n",
        "        x = self.pool_2(x)\n",
        "\n",
        "        x = F.relu(self.conv_3(x))\n",
        "        x = F.relu(self.conv_4(x))\n",
        "        x = self.pool_4(x)\n",
        "\n",
        "        x = F.relu(self.conv_5(x))\n",
        "        x = self.batch_norm_5(x)\n",
        "\n",
        "        x = F.relu(self.conv_6(x))\n",
        "        x = self.batch_norm_6(x)\n",
        "        x = self.pool_6(x)\n",
        "\n",
        "        # Reshape for LSTM input\n",
        "        batch_size, channels, height, width = x.size()\n",
        "\n",
        "        # Permute and reshape to match LSTM input requirements\n",
        "        x = x.permute(0, 3, 1, 2)  # (batch, width, channels, height)\n",
        "        x = x.contiguous().view(batch_size, width, height * channels)  # (batch, width, channels * height)\n",
        "\n",
        "        # Ensure the dimensions match\n",
        "        if x.size(-1) != 1024:\n",
        "            raise ValueError(f\"Expected input size of 1024, but got {x.size(-1)}\")\n",
        "\n",
        "        x, _ = self.lstm_1(x)\n",
        "        x, _ = self.lstm_2(x)\n",
        "        x = self.fc(x)\n",
        "\n",
        "        return x"
      ]
    },
    {
      "cell_type": "markdown",
      "metadata": {},
      "source": [
        "CTC Loss and Dataloader"
      ]
    },
    {
      "cell_type": "code",
      "execution_count": null,
      "metadata": {
        "id": "FgERyZ2D_BUE"
      },
      "outputs": [],
      "source": [
        "# Define the loss function (CTC Loss)\n",
        "def ctc_loss(pred, target, input_lengths, target_lengths):\n",
        "    # CTC Loss expects input in shape (seq_len, batch, num_classes)\n",
        "    return nn.CTCLoss(blank=0, zero_infinity=True)(pred, target, input_lengths, target_lengths)\n",
        "\n",
        "# Define the Dataset class to load your PNG images and their corresponding text\n",
        "class OCRDataset(Dataset):\n",
        "    def __init__(self, image_folder, char_list, transform=None):\n",
        "        self.image_folder = image_folder\n",
        "        self.char_list = char_list\n",
        "        self.transform = transform\n",
        "        self.image_paths = [os.path.join(image_folder, f) for f in os.listdir(image_folder) if f.endswith('.png')]\n",
        "\n",
        "    def __len__(self):\n",
        "        return len(self.image_paths)\n",
        "\n",
        "    def __getitem__(self, idx):\n",
        "        img_path = self.image_paths[idx]\n",
        "        img = Image.open(img_path).convert('L')  # Convert to grayscale\n",
        "\n",
        "        # Convert the text label (image name without extension)\n",
        "        label = os.path.basename(img_path).split('.')[0]\n",
        "\n",
        "        # Create target tensor for CTC loss (mapping characters to indices)\n",
        "        target = torch.tensor([self.char_list.index(c) for c in label], dtype=torch.int)\n",
        "\n",
        "        if self.transform:\n",
        "            img = self.transform(img)\n",
        "\n",
        "        img_width, img_height = img.shape[1], img.shape[2]\n",
        "        return img, target, torch.tensor([img_width // 4], dtype=torch.int), torch.tensor([len(label)], dtype=torch.int)"
      ]
    },
    {
      "cell_type": "code",
      "execution_count": null,
      "metadata": {
        "id": "5KMmFMX9_EZ-"
      },
      "outputs": [],
      "source": [
        "def collate_fn(batch):\n",
        "    images = []\n",
        "    targets = []\n",
        "    input_lengths = []\n",
        "    target_lengths = []\n",
        "\n",
        "    for img, target, input_len, target_len in batch:\n",
        "        images.append(img)\n",
        "        targets.append(target)\n",
        "        input_lengths.append(input_len)\n",
        "        target_lengths.append(target_len)\n",
        "\n",
        "    targets = pad_sequence(targets, batch_first=True, padding_value=0)  # Padding value = 0 for CTC Loss\n",
        "\n",
        "    images = torch.stack(images, 0)\n",
        "\n",
        "    input_lengths = torch.tensor(input_lengths, dtype=torch.int)\n",
        "    target_lengths = torch.tensor(target_lengths, dtype=torch.int)\n",
        "\n",
        "    return images, targets, input_lengths, target_lengths"
      ]
    },
    {
      "cell_type": "markdown",
      "metadata": {},
      "source": [
        "Initialisation"
      ]
    },
    {
      "cell_type": "code",
      "execution_count": null,
      "metadata": {
        "id": "WKRrDN___Hij"
      },
      "outputs": [],
      "source": [
        "# Parameters\n",
        "image_folder = '/content/dataset_0/dataset_0'  # Path to folder with images\n",
        "char_list = [''] + list('abcdefghijklmnopqrstuvwxyzABCDEFGHIJKLMNOPQRSTUVWXYZ')  # '-' represents blank\n",
        "num_classes = len(char_list)  # No need to add extra blank manually\n",
        "\n",
        "# Data Transformations\n",
        "transform = transforms.Compose([\n",
        "    transforms.Resize((32, 128)),\n",
        "    transforms.ToTensor(),\n",
        "    transforms.Normalize((0.5,), (0.5,))\n",
        "])\n",
        "\n",
        "# Create Dataset and DataLoader\n",
        "dataset = OCRDataset(image_folder, char_list, transform)\n",
        "train_size = int(0.8 * len(dataset))\n",
        "val_size = len(dataset) - train_size\n",
        "train_dataset, val_dataset = torch.utils.data.random_split(dataset, [train_size, val_size])\n",
        "train_loader = DataLoader(train_dataset, batch_size=20, shuffle=True, collate_fn=collate_fn)\n",
        "val_loader = DataLoader(val_dataset, batch_size=20, shuffle=False, collate_fn=collate_fn)\n",
        "\n",
        "model = CRNN(num_classes).to(device) \n",
        "optimizer = Adam(model.parameters(), lr=0.001)"
      ]
    },
    {
      "cell_type": "markdown",
      "metadata": {},
      "source": [
        "Greedy Decoding"
      ]
    },
    {
      "cell_type": "code",
      "execution_count": null,
      "metadata": {
        "id": "zBM9c2y5CTbI"
      },
      "outputs": [],
      "source": [
        "def decode_predictions(output, char_list, blank_index=0):  \n",
        "    decoded_preds = []\n",
        "    for i in range(output.size(1)):  \n",
        "        pred_indices = torch.argmax(output[:, i, :], dim=1).tolist() \n",
        "        pred_text = []\n",
        "        previous_char = None\n",
        "        for index in pred_indices:\n",
        "            if index != previous_char and index != blank_index:\n",
        "                pred_text.append(char_list[index])\n",
        "            previous_char = index\n",
        "        decoded_preds.append(''.join(pred_text))\n",
        "    return decoded_preds"
      ]
    },
    {
      "cell_type": "markdown",
      "metadata": {},
      "source": [
        "Training Loop"
      ]
    },
    {
      "cell_type": "code",
      "execution_count": null,
      "metadata": {
        "colab": {
          "base_uri": "https://localhost:8080/"
        },
        "id": "8AhS5Jcs_6KT",
        "outputId": "73657cd1-2e72-4e76-bb37-204c224e4166"
      },
      "outputs": [
        {
          "name": "stdout",
          "output_type": "stream",
          "text": [
            "Epoch 1, Training Loss: 3.6393\n",
            "Target: Pelt, Predicted: E\n",
            "Target: Omchrh, Predicted: Q\n",
            "Target: Ygfynj, Predicted: Eg\n",
            "Epoch 1, Validation Loss: 3.2148, Character Accuracy: 0.0147\n",
            "Epoch 2, Training Loss: 0.9163\n",
            "Target: Pelt, Predicted: Pelt\n",
            "Target: Omchrh, Predicted: Cmchrh\n",
            "Target: Ygfynj, Predicted: Ygfynj\n",
            "Epoch 2, Validation Loss: 0.4606, Character Accuracy: 0.9124\n",
            "Epoch 3, Training Loss: 0.0997\n",
            "Target: Pelt, Predicted: Pelt\n",
            "Target: Omchrh, Predicted: Omchrh\n",
            "Target: Ygfynj, Predicted: Ygfynj\n",
            "Epoch 3, Validation Loss: 0.8234, Character Accuracy: 0.8911\n",
            "Epoch 4, Training Loss: 0.0278\n",
            "Target: Pelt, Predicted: Pelt\n",
            "Target: Omchrh, Predicted: Omchrh\n",
            "Target: Ygfynj, Predicted: Ygfynj\n",
            "Epoch 4, Validation Loss: 0.0206, Character Accuracy: 0.9619\n",
            "Epoch 5, Training Loss: 0.0185\n",
            "Target: Pelt, Predicted: Pelt\n",
            "Target: Omchrh, Predicted: Omchrh\n",
            "Target: Ygfynj, Predicted: Ygfynj\n",
            "Epoch 5, Validation Loss: 0.0011, Character Accuracy: 0.9609\n",
            "Epoch 6, Training Loss: 0.0097\n",
            "Target: Pelt, Predicted: Pelt\n",
            "Target: Omchrh, Predicted: Omchrh\n",
            "Target: Ygfynj, Predicted: Ygfynj\n",
            "Epoch 6, Validation Loss: 0.0620, Character Accuracy: 0.9630\n",
            "Epoch 7, Training Loss: 0.0162\n",
            "Target: Pelt, Predicted: Pelt\n",
            "Target: Omchrh, Predicted: Omchrh\n",
            "Target: Ygfynj, Predicted: Ygfynj\n",
            "Epoch 7, Validation Loss: -0.0414, Character Accuracy: 0.9627\n",
            "Epoch 8, Training Loss: 0.0115\n",
            "Target: Pelt, Predicted: Pelt\n",
            "Target: Omchrh, Predicted: Omchrh\n",
            "Target: Ygfynj, Predicted: Ygfynj\n",
            "Epoch 8, Validation Loss: 0.0195, Character Accuracy: 0.9618\n",
            "Epoch 9, Training Loss: 0.0057\n",
            "Target: Pelt, Predicted: Pelt\n",
            "Target: Omchrh, Predicted: Omchrh\n",
            "Target: Ygfynj, Predicted: Ygfynj\n",
            "Epoch 9, Validation Loss: 0.0804, Character Accuracy: 0.9570\n",
            "Epoch 10, Training Loss: 0.0102\n",
            "Target: Pelt, Predicted: Pelt\n",
            "Target: Omchrh, Predicted: Omchrh\n",
            "Target: Ygfynj, Predicted: Ygfynj\n",
            "Epoch 10, Validation Loss: 0.0088, Character Accuracy: 0.9623\n",
            "Epoch 11, Training Loss: 0.0043\n",
            "Target: Pelt, Predicted: Pelt\n",
            "Target: Omchrh, Predicted: Omchrh\n",
            "Target: Ygfynj, Predicted: Ygfynj\n",
            "Epoch 11, Validation Loss: -0.0065, Character Accuracy: 0.9626\n",
            "Epoch 12, Training Loss: 0.0057\n",
            "Target: Pelt, Predicted: Pelt\n",
            "Target: Omchrh, Predicted: Omchrh\n",
            "Target: Ygfynj, Predicted: Ygfynj\n",
            "Epoch 12, Validation Loss: 0.0082, Character Accuracy: 0.9610\n",
            "Epoch 13, Training Loss: 0.0061\n",
            "Target: Pelt, Predicted: Pelt\n",
            "Target: Omchrh, Predicted: Omchrh\n",
            "Target: Ygfynj, Predicted: Ygfynj\n",
            "Epoch 13, Validation Loss: -0.0102, Character Accuracy: 0.9627\n",
            "Epoch 14, Training Loss: 0.0048\n",
            "Target: Pelt, Predicted: Pelt\n",
            "Target: Omchrh, Predicted: Omchrh\n",
            "Target: Ygfynj, Predicted: Ygfynj\n",
            "Epoch 14, Validation Loss: 0.0350, Character Accuracy: 0.9633\n",
            "Epoch 15, Training Loss: 0.0047\n",
            "Target: Pelt, Predicted: Pelt\n",
            "Target: Omchrh, Predicted: Omchrh\n",
            "Target: Ygfynj, Predicted: Ygfynj\n",
            "Epoch 15, Validation Loss: 0.0098, Character Accuracy: 0.9620\n",
            "Epoch 16, Training Loss: 0.0033\n",
            "Target: Pelt, Predicted: Pelt\n",
            "Target: Omchrh, Predicted: Omchrh\n",
            "Target: Ygfynj, Predicted: Ygfynj\n",
            "Epoch 16, Validation Loss: -0.0377, Character Accuracy: 0.9628\n",
            "Epoch 17, Training Loss: 0.0045\n",
            "Target: Pelt, Predicted: Pelt\n",
            "Target: Omchrh, Predicted: Omchrh\n",
            "Target: Ygfynj, Predicted: Ygfynj\n",
            "Epoch 17, Validation Loss: -0.0137, Character Accuracy: 0.9620\n",
            "Epoch 18, Training Loss: 0.0031\n",
            "Target: Pelt, Predicted: Pelt\n",
            "Target: Omchrh, Predicted: Omchrh\n",
            "Target: Ygfynj, Predicted: Ygfynj\n",
            "Epoch 18, Validation Loss: 0.0266, Character Accuracy: 0.9628\n",
            "Epoch 19, Training Loss: 0.0045\n",
            "Target: Pelt, Predicted: Pelt\n",
            "Target: Omchrh, Predicted: Omchrh\n",
            "Target: Ygfynj, Predicted: Ygfynj\n",
            "Epoch 19, Validation Loss: 0.0072, Character Accuracy: 0.9632\n",
            "Epoch 20, Training Loss: 0.0021\n",
            "Target: Pelt, Predicted: Pelt\n",
            "Target: Omchrh, Predicted: Omchrh\n",
            "Target: Ygfynj, Predicted: Ygfynj\n",
            "Epoch 20, Validation Loss: 0.0511, Character Accuracy: 0.9633\n",
            "Epoch 21, Training Loss: 0.0030\n",
            "Target: Pelt, Predicted: Pelt\n",
            "Target: Omchrh, Predicted: Omchrh\n",
            "Target: Ygfynj, Predicted: Ygfynj\n",
            "Epoch 21, Validation Loss: -0.0007, Character Accuracy: 0.9628\n",
            "Epoch 22, Training Loss: 0.0021\n",
            "Target: Pelt, Predicted: Pelt\n",
            "Target: Omchrh, Predicted: Omchrh\n",
            "Target: Ygfynj, Predicted: Ygfynj\n",
            "Epoch 22, Validation Loss: 0.0425, Character Accuracy: 0.9630\n",
            "Epoch 23, Training Loss: 0.0066\n",
            "Target: Pelt, Predicted: Pelt\n",
            "Target: Omchrh, Predicted: Omchrh\n",
            "Target: Ygfynj, Predicted: Ygfynj\n",
            "Epoch 23, Validation Loss: 0.0399, Character Accuracy: 0.9618\n",
            "Epoch 24, Training Loss: 0.0018\n",
            "Target: Pelt, Predicted: Pelt\n",
            "Target: Omchrh, Predicted: Omchrh\n",
            "Target: Ygfynj, Predicted: Ygfynj\n",
            "Epoch 24, Validation Loss: 0.0214, Character Accuracy: 0.9625\n",
            "Epoch 25, Training Loss: 0.0016\n",
            "Target: Pelt, Predicted: Pelt\n",
            "Target: Omchrh, Predicted: Omchrh\n",
            "Target: Ygfynj, Predicted: Ygfynj\n",
            "Epoch 25, Validation Loss: 0.0066, Character Accuracy: 0.9626\n",
            "Epoch 26, Training Loss: 0.0016\n",
            "Target: Pelt, Predicted: Pelt\n",
            "Target: Omchrh, Predicted: Omchrh\n",
            "Target: Ygfynj, Predicted: Ygfynj\n",
            "Epoch 26, Validation Loss: 0.0343, Character Accuracy: 0.9631\n",
            "Epoch 27, Training Loss: 0.0036\n",
            "Target: Pelt, Predicted: Pelt\n",
            "Target: Omchrh, Predicted: Omchrh\n",
            "Target: Ygfynj, Predicted: Ygfynj\n",
            "Epoch 27, Validation Loss: 0.0128, Character Accuracy: 0.9629\n",
            "Epoch 28, Training Loss: 0.0017\n",
            "Target: Pelt, Predicted: Pelt\n",
            "Target: Omchrh, Predicted: Omchrh\n",
            "Target: Ygfynj, Predicted: Ygfynj\n",
            "Epoch 28, Validation Loss: 0.0529, Character Accuracy: 0.9634\n",
            "Epoch 29, Training Loss: 0.0023\n",
            "Target: Pelt, Predicted: Pelt\n",
            "Target: Omchrh, Predicted: Omchrh\n",
            "Target: Ygfynj, Predicted: Ygfynj\n",
            "Epoch 29, Validation Loss: 0.0219, Character Accuracy: 0.9614\n",
            "Epoch 30, Training Loss: 0.0017\n",
            "Target: Pelt, Predicted: Pelt\n",
            "Target: Omchrh, Predicted: Omchrh\n",
            "Target: Ygfynj, Predicted: Ygfynj\n",
            "Epoch 30, Validation Loss: 0.0143, Character Accuracy: 0.9608\n"
          ]
        }
      ],
      "source": [
        "for epoch in range(30): \n",
        "    model.train()\n",
        "    train_loss = 0\n",
        "    for images, targets, _, target_lengths in train_loader:\n",
        "        images, targets, target_lengths = images.to(device), targets.to(device), target_lengths.to(device)  # Move to device\n",
        "\n",
        "        optimizer.zero_grad()\n",
        "        output = model(images)\n",
        "        batch_size, seq_len, num_classes = output.size()\n",
        "        input_lengths = torch.full((batch_size,), seq_len, dtype=torch.int32).to(device)\n",
        "\n",
        "        # Compute CTC loss\n",
        "        loss = ctc_loss(output.permute(1, 0, 2), targets, input_lengths, target_lengths)\n",
        "        train_loss += loss.item()\n",
        "\n",
        "        loss.backward()\n",
        "        optimizer.step()\n",
        "\n",
        "    avg_train_loss = train_loss / len(train_loader)\n",
        "    print(f\"Epoch {epoch+1}, Training Loss: {avg_train_loss:.4f}\")\n",
        "\n",
        "    # Validation Loop\n",
        "    model.eval()\n",
        "    val_loss = 0\n",
        "    total_characters = 0\n",
        "    correct_characters = 0\n",
        "    print_count = 0  \n",
        "\n",
        "    with torch.no_grad():\n",
        "        for images, targets, _, target_lengths in val_loader:\n",
        "            images, targets, target_lengths = images.to(device), targets.to(device), target_lengths.to(device)  # Move to device\n",
        "\n",
        "            output = model(images)\n",
        "            batch_size, seq_len, num_classes = output.size()\n",
        "            input_lengths = torch.full((batch_size,), seq_len, dtype=torch.int32).to(device)\n",
        "\n",
        "            # Compute CTC loss\n",
        "            loss = ctc_loss(output.permute(1, 0, 2), targets, input_lengths, target_lengths)\n",
        "            val_loss += loss.item()\n",
        "\n",
        "            # Use decode_predictions function\n",
        "            decoded_preds = decode_predictions(output.permute(1, 0, 2), char_list, blank_index=num_classes-1)\n",
        "            for pred_text, target in zip(decoded_preds, targets):\n",
        "                target_text = ''.join([char_list[c.item()] for c in target if c.item() != 0])  # Remove padding\n",
        "\n",
        "                if print_count < 3:  # Print only first 3 predictions\n",
        "                    print(f\"Target: {target_text}, Predicted: {pred_text}\")\n",
        "                    print_count += 1\n",
        "\n",
        "                # Calculate character-level accuracy\n",
        "                correct_characters += sum(pc == tc for pc, tc in zip(pred_text, target_text))\n",
        "                total_characters += len(target_text)\n",
        "\n",
        "    avg_val_loss = val_loss / len(val_loader)\n",
        "    character_accuracy = correct_characters / total_characters if total_characters > 0 else 0\n",
        "    print(f\"Epoch {epoch+1}, Validation Loss: {avg_val_loss:.4f}, Character Accuracy: {character_accuracy:.4f}\")"
      ]
    },
    {
      "cell_type": "code",
      "execution_count": null,
      "metadata": {
        "colab": {
          "base_uri": "https://localhost:8080/"
        },
        "id": "6C8KQv78MV31",
        "outputId": "89dc00d5-a45a-4381-ec83-59648760b693"
      },
      "outputs": [
        {
          "name": "stdout",
          "output_type": "stream",
          "text": [
            "Model saved after all epochs.\n"
          ]
        }
      ],
      "source": [
        "torch.save(model.state_dict(), 'task-2_data_0.pth')\n",
        "print(\"Model saved after all epochs.\")"
      ]
    }
  ],
  "metadata": {
    "accelerator": "GPU",
    "colab": {
      "gpuType": "T4",
      "provenance": []
    },
    "kernelspec": {
      "display_name": "Python 3",
      "name": "python3"
    },
    "language_info": {
      "name": "python"
    }
  },
  "nbformat": 4,
  "nbformat_minor": 0
}
